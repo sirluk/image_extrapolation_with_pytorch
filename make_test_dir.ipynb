{
 "cells": [
  {
   "cell_type": "code",
   "execution_count": 1,
   "id": "e1c2131d",
   "metadata": {},
   "outputs": [],
   "source": [
    "from pathlib import Path\n",
    "from numpy.random import default_rng\n",
    "from PIL import Image\n",
    "import dill as pickle\n",
    "import torchvision.transforms as transforms\n",
    "import torch\n",
    "import numpy as np\n",
    "from src.dataset import get_borders"
   ]
  },
  {
   "cell_type": "code",
   "execution_count": 2,
   "id": "7f360c4f",
   "metadata": {},
   "outputs": [],
   "source": [
    "root_dir = \"data/data_train\"\n",
    "testset_dir = \"data/data_test\""
   ]
  },
  {
   "cell_type": "code",
   "execution_count": 3,
   "id": "1a5d3b50",
   "metadata": {},
   "outputs": [],
   "source": [
    "root_dir = Path(root_dir)\n",
    "file_paths = sorted([str(p) for p in root_dir.rglob(\"*.jpg\")])"
   ]
  },
  {
   "cell_type": "code",
   "execution_count": 4,
   "id": "33f01a18",
   "metadata": {},
   "outputs": [],
   "source": [
    "rng = default_rng(seed=0)\n",
    "numbers = rng.choice(len(file_paths), size=208, replace=False)"
   ]
  },
  {
   "cell_type": "code",
   "execution_count": 5,
   "id": "7d49493c",
   "metadata": {},
   "outputs": [],
   "source": [
    "testset_paths = [file_paths[idx] for idx in numbers]"
   ]
  },
  {
   "cell_type": "code",
   "execution_count": 6,
   "id": "18cab4b9",
   "metadata": {},
   "outputs": [],
   "source": [
    "for p in testset_paths:\n",
    "    fname = \"_\".join(p.split(\"/\")[-3:])\n",
    "    Path(p).rename(f\"{testset_dir}/{fname}.jpg\")"
   ]
  },
  {
   "cell_type": "code",
   "execution_count": 7,
   "id": "106fa906",
   "metadata": {},
   "outputs": [],
   "source": [
    "testset_paths = sorted([str(p) for p in Path(testset_dir).rglob(\"*.jpg\")])"
   ]
  },
  {
   "cell_type": "code",
   "execution_count": 8,
   "id": "b519c5be",
   "metadata": {},
   "outputs": [],
   "source": [
    "borders_x = get_borders(len(testset_paths), seed=0)\n",
    "borders_y = get_borders(len(testset_paths), seed=1)"
   ]
  },
  {
   "cell_type": "code",
   "execution_count": 9,
   "id": "5fee0c87",
   "metadata": {},
   "outputs": [],
   "source": [
    "rz = transforms.Resize((90,90))"
   ]
  },
  {
   "cell_type": "code",
   "execution_count": 15,
   "id": "16410d6b",
   "metadata": {},
   "outputs": [],
   "source": [
    "known_arrays = []\n",
    "input_arrays = []\n",
    "target_arrays = []\n",
    "sample_ids = []\n",
    "for i, img_path in enumerate(testset_paths):\n",
    "    img = Image.open(img_path)\n",
    "    ar = np.array(rz(img))\n",
    "    \n",
    "    known_array = np.zeros_like(ar, dtype=\"uint8\")\n",
    "    border_x, border_y = borders_x[:,i], borders_y[:,i]\n",
    "    \n",
    "    known_array[border_x[0]:-border_x[1],border_y[0]:-border_y[1]] = 1\n",
    "    target_array = ar[known_array==0]\n",
    "    ar[:border_x[0]] = 0\n",
    "    ar[-border_x[1]:] = 0\n",
    "    ar[:,:border_y[0]] = 0\n",
    "    ar[:,-border_y[1]:] = 0\n",
    "    \n",
    "    known_arrays.append(known_array)\n",
    "    input_arrays.append(ar)\n",
    "    target_arrays.append(target_array)\n",
    "    sample_ids.append(i)"
   ]
  },
  {
   "cell_type": "code",
   "execution_count": 16,
   "id": "7138ab76",
   "metadata": {},
   "outputs": [],
   "source": [
    "testset = {\n",
    "    \"input_arrays\": tuple(input_arrays),\n",
    "    \"known_arrays\": tuple(known_arrays),\n",
    "    \"target_arrays\": tuple(target_arrays),\n",
    "    \"borders_x\": borders_x,\n",
    "    \"borders_y\": borders_y,\n",
    "    \"sample_ids\": tuple(sample_ids)\n",
    "}"
   ]
  },
  {
   "cell_type": "code",
   "execution_count": 17,
   "id": "619ff7f4",
   "metadata": {},
   "outputs": [],
   "source": [
    "with open(\"data/my_testset_dict.pkl\", \"wb\") as f:\n",
    "    pickle.dump(testset, f)\n",
    "with open(\"data/my_testset.pkl\", \"wb\") as f:\n",
    "    pickle.dump(target_arrays, f)"
   ]
  },
  {
   "cell_type": "code",
   "execution_count": null,
   "id": "54876354",
   "metadata": {},
   "outputs": [],
   "source": []
  }
 ],
 "metadata": {
  "environment": {
   "name": "pytorch-gpu.1-9.m75",
   "type": "gcloud",
   "uri": "gcr.io/deeplearning-platform-release/pytorch-gpu.1-9:m75"
  },
  "kernelspec": {
   "display_name": "Python 3",
   "language": "python",
   "name": "python3"
  },
  "language_info": {
   "codemirror_mode": {
    "name": "ipython",
    "version": 3
   },
   "file_extension": ".py",
   "mimetype": "text/x-python",
   "name": "python",
   "nbconvert_exporter": "python",
   "pygments_lexer": "ipython3",
   "version": "3.7.10"
  }
 },
 "nbformat": 4,
 "nbformat_minor": 5
}
