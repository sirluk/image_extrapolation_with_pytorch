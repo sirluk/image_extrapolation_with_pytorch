{
 "cells": [
  {
   "cell_type": "code",
   "execution_count": 1,
   "id": "46a00b61",
   "metadata": {},
   "outputs": [],
   "source": [
    "from pathlib import Path\n",
    "from PIL import Image\n",
    "import numpy as np\n",
    "import dill as pickle\n",
    "from joblib import Parallel, delayed\n",
    "from multiprocessing import cpu_count"
   ]
  },
  {
   "cell_type": "code",
   "execution_count": 11,
   "id": "f7467cb4",
   "metadata": {},
   "outputs": [],
   "source": [
    "def get_stats(filepath):\n",
    "    ar = np.asarray(Image.open(filepath), dtype=np.float32)\n",
    "    ar /= 255\n",
    "    return np.array([ar.sum(), np.square(ar).sum(), ar.size])    "
   ]
  },
  {
   "cell_type": "code",
   "execution_count": null,
   "id": "500c9e8e",
   "metadata": {},
   "outputs": [],
   "source": [
    "print(\"Enter image directory:\")\n",
    "input_dir = input()"
   ]
  },
  {
   "cell_type": "code",
   "execution_count": 12,
   "id": "c917786d",
   "metadata": {},
   "outputs": [],
   "source": [
    "input_dir = \"data/data_test\""
   ]
  },
  {
   "cell_type": "code",
   "execution_count": 13,
   "id": "d991477e",
   "metadata": {},
   "outputs": [],
   "source": [
    "n_cpu = cpu_count()\n",
    "res = Parallel(n_jobs=max(n_cpu-1, 1))(delayed(get_stats)(f) for f in Path(input_dir).rglob(\"*.jpg\"))"
   ]
  },
  {
   "cell_type": "code",
   "execution_count": 17,
   "id": "35496caf",
   "metadata": {},
   "outputs": [
    {
     "data": {
      "text/plain": [
       "array([3.50029706e+08, 2.14410613e+08, 7.09876211e+08])"
      ]
     },
     "execution_count": 17,
     "metadata": {},
     "output_type": "execute_result"
    }
   ],
   "source": [
    "runnp.stack(res).sum(0)"
   ]
  },
  {
   "cell_type": "code",
   "execution_count": 21,
   "id": "8732ee16",
   "metadata": {},
   "outputs": [
    {
     "ename": "TypeError",
     "evalue": "flip(): argument 'dims' must be tuple of ints, not int",
     "output_type": "error",
     "traceback": [
      "\u001b[0;31m---------------------------------------------------------------------------\u001b[0m",
      "\u001b[0;31mTypeError\u001b[0m                                 Traceback (most recent call last)",
      "\u001b[0;32m/tmp/ipykernel_16270/2811464913.py\u001b[0m in \u001b[0;36m<module>\u001b[0;34m\u001b[0m\n\u001b[0;32m----> 1\u001b[0;31m \u001b[0mtorch\u001b[0m\u001b[0;34m.\u001b[0m\u001b[0mflip\u001b[0m\u001b[0;34m(\u001b[0m\u001b[0mimg\u001b[0m\u001b[0;34m,\u001b[0m \u001b[0mdims\u001b[0m\u001b[0;34m=\u001b[0m\u001b[0;36m2\u001b[0m\u001b[0;34m)\u001b[0m\u001b[0;34m\u001b[0m\u001b[0;34m\u001b[0m\u001b[0m\n\u001b[0m",
      "\u001b[0;31mTypeError\u001b[0m: flip(): argument 'dims' must be tuple of ints, not int"
     ]
    }
   ],
   "source": [
    "\n",
    "\n",
    "\n",
    "\n",
    "\n",
    "running_stats = np.zeros((3,), dtype=np.float32)\n",
    "for f in Path(input_dir).rglob(\"*.jpg\"):\n",
    "    ar = np.asarray(Image.open(f), dtype=np.float32)\n",
    "    ar /= 255\n",
    "    running_stats += np.array([ar.sum(), np.square(ar).sum(), ar.size])\n",
    "    \n",
    "mean = running_stats[0] / running_stats[2]\n",
    "std = np.sqrt(running_stats[1] / running_stats[2] - mean**2)\n",
    "\n",
    "with open(\"data/image_stats.pkl\", \"wb\") as f:\n",
    "    pickle.dump([float(mean), float(std)], f)"
   ]
  },
  {
   "cell_type": "code",
   "execution_count": null,
   "id": "71195093",
   "metadata": {},
   "outputs": [],
   "source": []
  }
 ],
 "metadata": {
  "environment": {
   "name": "pytorch-gpu.1-9.m74",
   "type": "gcloud",
   "uri": "gcr.io/deeplearning-platform-release/pytorch-gpu.1-9:m74"
  },
  "kernelspec": {
   "display_name": "Python 3",
   "language": "python",
   "name": "python3"
  },
  "language_info": {
   "codemirror_mode": {
    "name": "ipython",
    "version": 3
   },
   "file_extension": ".py",
   "mimetype": "text/x-python",
   "name": "python",
   "nbconvert_exporter": "python",
   "pygments_lexer": "ipython3",
   "version": "3.7.10"
  }
 },
 "nbformat": 4,
 "nbformat_minor": 5
}
