{
 "cells": [
  {
   "cell_type": "code",
   "execution_count": 1,
   "id": "e9d0dbf6",
   "metadata": {},
   "outputs": [],
   "source": [
    "from pathlib import Path\n",
    "from PIL import Image\n",
    "import numpy as np\n",
    "import dill as pickle\n",
    "from src.dataset import *\n",
    "from src.architecture import *\n",
    "from src.utils import *"
   ]
  },
  {
   "cell_type": "code",
   "execution_count": 2,
   "id": "8c0d7364",
   "metadata": {},
   "outputs": [],
   "source": [
    "p = \"data/data_train\"\n",
    "ds_ = ImageDS(p)"
   ]
  },
  {
   "cell_type": "code",
   "execution_count": 3,
   "id": "45388163",
   "metadata": {},
   "outputs": [],
   "source": [
    "# load mean and std\n",
    "with open(\"data/image_stats.pkl\", \"rb\") as f:\n",
    "    mean, std = pickle.load(f)"
   ]
  },
  {
   "cell_type": "code",
   "execution_count": 4,
   "id": "0e9ae660",
   "metadata": {},
   "outputs": [],
   "source": [
    "tf = transforms.Compose([\n",
    "            transforms.ToTensor(),\n",
    "            transforms.RandomResizedCrop((90,90)),\n",
    "            transforms.Lambda(lambda x: random_rotation_flip(x))\n",
    "        ])"
   ]
  },
  {
   "cell_type": "code",
   "execution_count": 5,
   "id": "a5482094",
   "metadata": {},
   "outputs": [],
   "source": [
    "ds = BorderPredictionDS(dataset=ds_, ds_stats = (mean, std), transform_chain=tf, border_mode=\"fix\")"
   ]
  },
  {
   "cell_type": "code",
   "execution_count": 6,
   "id": "695a6287",
   "metadata": {},
   "outputs": [],
   "source": [
    "x, y, mask, idx_ = ds[0]"
   ]
  },
  {
   "cell_type": "code",
   "execution_count": 11,
   "id": "a12debf4",
   "metadata": {},
   "outputs": [],
   "source": [
    "img = Image.open(img_data)"
   ]
  },
  {
   "cell_type": "code",
   "execution_count": 14,
   "id": "6e74bc4e",
   "metadata": {},
   "outputs": [],
   "source": [
    "tf = transforms.Compose([\n",
    "            transforms.ToTensor(),\n",
    "            transforms.RandomResizedCrop((90,90))\n",
    "            #transforms.Lambda(lambda x: random_rotation_flip(x))\n",
    "        ])"
   ]
  },
  {
   "cell_type": "code",
   "execution_count": 18,
   "id": "a4de4182",
   "metadata": {},
   "outputs": [],
   "source": [
    "img = tf(img)"
   ]
  },
  {
   "cell_type": "code",
   "execution_count": 19,
   "id": "28265206",
   "metadata": {},
   "outputs": [
    {
     "data": {
      "text/plain": [
       "tensor([[[0.6259, 0.6535, 0.6345,  ..., 0.3538, 0.4326, 0.2800],\n",
       "         [0.6633, 0.6561, 0.6521,  ..., 0.2848, 0.2784, 0.2371],\n",
       "         [0.6751, 0.6749, 0.6651,  ..., 0.3630, 0.4165, 0.3768],\n",
       "         ...,\n",
       "         [0.0314, 0.0444, 0.0656,  ..., 0.3142, 0.2931, 0.2818],\n",
       "         [0.0353, 0.0438, 0.0589,  ..., 0.3707, 0.2265, 0.2949],\n",
       "         [0.0376, 0.0510, 0.0745,  ..., 0.2658, 0.3272, 0.3109]]])"
      ]
     },
     "execution_count": 19,
     "metadata": {},
     "output_type": "execute_result"
    }
   ],
   "source": [
    "torch.rot90(img, 1, dims=(1,2))"
   ]
  },
  {
   "cell_type": "code",
   "execution_count": 21,
   "id": "320f08b7",
   "metadata": {},
   "outputs": [
    {
     "ename": "TypeError",
     "evalue": "flip(): argument 'dims' must be tuple of ints, not int",
     "output_type": "error",
     "traceback": [
      "\u001b[0;31m---------------------------------------------------------------------------\u001b[0m",
      "\u001b[0;31mTypeError\u001b[0m                                 Traceback (most recent call last)",
      "\u001b[0;32m/tmp/ipykernel_16270/2811464913.py\u001b[0m in \u001b[0;36m<module>\u001b[0;34m\u001b[0m\n\u001b[0;32m----> 1\u001b[0;31m \u001b[0mtorch\u001b[0m\u001b[0;34m.\u001b[0m\u001b[0mflip\u001b[0m\u001b[0;34m(\u001b[0m\u001b[0mimg\u001b[0m\u001b[0;34m,\u001b[0m \u001b[0mdims\u001b[0m\u001b[0;34m=\u001b[0m\u001b[0;36m2\u001b[0m\u001b[0;34m)\u001b[0m\u001b[0;34m\u001b[0m\u001b[0;34m\u001b[0m\u001b[0m\n\u001b[0m",
      "\u001b[0;31mTypeError\u001b[0m: flip(): argument 'dims' must be tuple of ints, not int"
     ]
    }
   ],
   "source": [
    "torch.flip(img, dims=2)"
   ]
  },
  {
   "cell_type": "code",
   "execution_count": null,
   "id": "ea5218a4",
   "metadata": {},
   "outputs": [],
   "source": []
  }
 ],
 "metadata": {
  "environment": {
   "name": "pytorch-gpu.1-9.m75",
   "type": "gcloud",
   "uri": "gcr.io/deeplearning-platform-release/pytorch-gpu.1-9:m75"
  },
  "kernelspec": {
   "display_name": "Python 3",
   "language": "python",
   "name": "python3"
  },
  "language_info": {
   "codemirror_mode": {
    "name": "ipython",
    "version": 3
   },
   "file_extension": ".py",
   "mimetype": "text/x-python",
   "name": "python",
   "nbconvert_exporter": "python",
   "pygments_lexer": "ipython3",
   "version": "3.7.10"
  }
 },
 "nbformat": 4,
 "nbformat_minor": 5
}
