{
 "cells": [
  {
   "cell_type": "code",
   "execution_count": 1,
   "id": "a88d7645",
   "metadata": {},
   "outputs": [],
   "source": [
    "import dill as pickle\n",
    "import numpy as np\n",
    "from PIL import Image\n",
    "from pathlib import Path\n",
    "from torchvision import transforms\n",
    "import torch\n",
    "from torch import nn\n",
    "from torch.utils.data import Dataset, DataLoader\n",
    "from src.dataset import ImageDS, BorderPredictionDS, Testset, denorm\n",
    "from src.utils import my_collate"
   ]
  },
  {
   "cell_type": "code",
   "execution_count": 2,
   "id": "7f5360e2",
   "metadata": {},
   "outputs": [
    {
     "name": "stdout",
     "output_type": "stream",
     "text": [
      "cuda\n"
     ]
    }
   ],
   "source": [
    "device = 'cuda' if torch.cuda.is_available() else 'cpu'\n",
    "print(device)"
   ]
  },
  {
   "cell_type": "code",
   "execution_count": 3,
   "id": "043b2d35",
   "metadata": {},
   "outputs": [],
   "source": [
    "testset_path = \"files/challenge_testset/testset.pkl\"\n",
    "model_path = \"results/best_model.pt\"\n",
    "image_stats_path = \"files/image_stats.pkl\"\n",
    "validation_file_path = \"files/challenge_testset/testset_submission_random.pkl\""
   ]
  },
  {
   "cell_type": "code",
   "execution_count": 4,
   "id": "05664c08",
   "metadata": {},
   "outputs": [],
   "source": [
    "with open(image_stats_path, \"rb\") as f:\n",
    "    mean, std = pickle.load(f)"
   ]
  },
  {
   "cell_type": "code",
   "execution_count": 5,
   "id": "05e29564",
   "metadata": {},
   "outputs": [
    {
     "data": {
      "text/plain": [
       "BorderPredictionNet(\n",
       "  (cnn): CNNBase(\n",
       "    (hidden_layers): Sequential(\n",
       "      (0): ConvAuto(2, 64, kernel_size=(7, 7), stride=(1, 1), padding=(3, 3))\n",
       "      (1): ReLU(inplace=True)\n",
       "      (2): ConvAuto(64, 64, kernel_size=(7, 7), stride=(1, 1), padding=(3, 3))\n",
       "      (3): ReLU(inplace=True)\n",
       "      (4): ConvAuto(64, 64, kernel_size=(7, 7), stride=(1, 1), padding=(3, 3))\n",
       "      (5): ReLU(inplace=True)\n",
       "    )\n",
       "    (output_layer): ConvAuto(64, 1, kernel_size=(7, 7), stride=(1, 1), padding=(3, 3))\n",
       "  )\n",
       ")"
      ]
     },
     "execution_count": 5,
     "metadata": {},
     "output_type": "execute_result"
    }
   ],
   "source": [
    "batch_size = 16\n",
    "\n",
    "net = torch.load(model_path)\n",
    "net.eval()"
   ]
  },
  {
   "cell_type": "code",
   "execution_count": 6,
   "id": "148789db",
   "metadata": {},
   "outputs": [],
   "source": [
    "ds_test = Testset(testset_path, mean, std)\n",
    "#ds_test = Testset(\"data/my_testset_dict.pkl\", mean, std)\n",
    "dl_test = DataLoader(ds_test, batch_size=16, num_workers=4, shuffle=False)"
   ]
  },
  {
   "cell_type": "code",
   "execution_count": 7,
   "id": "a78e455e",
   "metadata": {},
   "outputs": [],
   "source": [
    "pred_list = []\n",
    "for x, mask in dl_test:\n",
    "    pred_ = net.cnn(x.to(device)).detach().squeeze(1).cpu()\n",
    "    pred = torch.round(denorm(pred_, mean, std)).numpy().astype(\"uint8\")\n",
    "    pred_list.extend([p[~m] for p, m in zip(pred, mask)])"
   ]
  },
  {
   "cell_type": "code",
   "execution_count": 8,
   "id": "ec33dc63",
   "metadata": {},
   "outputs": [
    {
     "data": {
      "image/png": "[encoded data removed]",
      "text/plain": [
       "<PIL.Image.Image image mode=L size=90x90 at 0x7FE41A56DE50>"
      ]
     },
     "metadata": {},
     "output_type": "display_data"
    }
   ],
   "source": [
    "# TEST PREDICTIONS\n",
    "idx = 25\n",
    "\n",
    "orig = ds_test.data[\"input_arrays\"][idx]\n",
    "mask = ~ds_test.data[\"known_arrays\"][idx].astype(bool)\n",
    "pred = pred_list[idx]\n",
    "orig[mask] = pred\n",
    "im = Image.fromarray(orig)\n",
    "im.show()"
   ]
  },
  {
   "cell_type": "code",
   "execution_count": 12,
   "id": "c02b2bbd",
   "metadata": {},
   "outputs": [
    {
     "data": {
      "text/plain": [
       "0"
      ]
     },
     "execution_count": 12,
     "metadata": {},
     "output_type": "execute_result"
    }
   ],
   "source": [
    "# verify prediction shapes\n",
    "with open(\"data/challenge_testset/testset_submission_random.pkl\", \"rb\") as f:\n",
    "    testset_submission = pickle.load(f)\n",
    "\n",
    "sum([len(x)!=len(y) for x,y in zip(pred_list, testset_submission)])"
   ]
  },
  {
   "cell_type": "code",
   "execution_count": 10,
   "id": "1eb3ade0",
   "metadata": {},
   "outputs": [],
   "source": [
    "with open(\"data/submission_v.pkl\", \"wb\") as f:\n",
    "    pickle.dump(pred_list, f)"
   ]
  }
 ],
 "metadata": {
  "environment": {
   "name": "pytorch-gpu.1-9.m74",
   "type": "gcloud",
   "uri": "gcr.io/deeplearning-platform-release/pytorch-gpu.1-9:m74"
  },
  "kernelspec": {
   "display_name": "Python 3",
   "language": "python",
   "name": "python3"
  },
  "language_info": {
   "codemirror_mode": {
    "name": "ipython",
    "version": 3
   },
   "file_extension": ".py",
   "mimetype": "text/x-python",
   "name": "python",
   "nbconvert_exporter": "python",
   "pygments_lexer": "ipython3",
   "version": "3.7.10"
  }
 },
 "nbformat": 4,
 "nbformat_minor": 5
}
