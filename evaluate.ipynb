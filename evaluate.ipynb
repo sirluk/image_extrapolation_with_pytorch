{
 "cells": [
  {
   "cell_type": "code",
   "execution_count": 1,
   "id": "c0637636",
   "metadata": {},
   "outputs": [],
   "source": [
    "import dill as pickle\n",
    "import numpy as np\n",
    "from PIL import Image\n",
    "from pathlib import Path\n",
    "from torchvision import transforms\n",
    "import torch\n",
    "from torch import nn\n",
    "from torch.utils.data import Dataset, DataLoader\n",
    "from dataset import ImageDS, BorderPredictionDS\n",
    "from architectures import CNNBase, BorderPredictionNet\n",
    "from utils import my_collate, denorm"
   ]
  },
  {
   "cell_type": "code",
   "execution_count": 2,
   "id": "dbea435b",
   "metadata": {},
   "outputs": [
    {
     "name": "stdout",
     "output_type": "stream",
     "text": [
      "cuda\n"
     ]
    }
   ],
   "source": [
    "device = 'cuda' if torch.cuda.is_available() else 'cpu'\n",
    "print(device)"
   ]
  },
  {
   "cell_type": "code",
   "execution_count": 3,
   "id": "ac301662",
   "metadata": {},
   "outputs": [],
   "source": [
    "# class Testset(Dataset):    \n",
    "    \n",
    "#     def __init__(self, filename: str, mean: float, std: float):\n",
    "        \n",
    "#         self.filename = Path(filename)\n",
    "#         self.mean = mean\n",
    "#         self.std = std\n",
    "#         self.transform = transforms.Compose([\n",
    "#             transforms.ToTensor(),\n",
    "#             transforms.Normalize((mean,), (std,))\n",
    "#         ])\n",
    "#         with open(self.filename, \"rb\") as f:\n",
    "#             self.data = pickle.load(f)\n",
    "        \n",
    "#         self.denorm = transforms.Compose([\n",
    "#             transforms.Normalize((-1 * self.mean / self.std), (1.0 / self.std)),\n",
    "#             transforms.Lambda(lambda x_: torch.clamp(x_ * 255, 0, 255))\n",
    "#         ])   \n",
    "        \n",
    "#     def __len__(self):\n",
    "#         return len(self.data[\"input_arrays\"])\n",
    "\n",
    "#     def __getitem__(self, idx):\n",
    "        \n",
    "#         input_array = self.data[\"input_arrays\"][idx]\n",
    "#         known_array = self.data[\"known_arrays\"][idx]\n",
    "               \n",
    "#         input_array = self.transform(input_array).squeeze()\n",
    "#         known_array = torch.tensor(known_array)\n",
    "        \n",
    "#         ar = torch.stack([input_array, known_array], dim=0).float()\n",
    "        \n",
    "#         return ar\n",
    "    \n",
    "#     def denormalize(self, x: torch.tensor):\n",
    "#         return self.denorm(x)"
   ]
  },
  {
   "cell_type": "code",
   "execution_count": 4,
   "id": "1ef1a72b",
   "metadata": {},
   "outputs": [],
   "source": [
    "class Testset(Dataset):    \n",
    "    \n",
    "    def __init__(self, filename: str, mean: float, std: float):\n",
    "        \n",
    "        self.filename = Path(filename)\n",
    "        self.ds_mean = mean\n",
    "        self.ds_std = std\n",
    "        self.transform = transforms.Compose([\n",
    "            transforms.ToTensor(),\n",
    "            transforms.Normalize((mean,), (std,))\n",
    "        ])\n",
    "        with open(self.filename, \"rb\") as f:\n",
    "            self.data = pickle.load(f)\n",
    "            \n",
    "        self.get_mask_vals(avg_border_size = 12)\n",
    "        \n",
    "        self.ds_val_zero = - self.ds_mean / self.ds_std\n",
    "        \n",
    "        self.denorm = transforms.Compose([\n",
    "            transforms.Normalize((-1 * self.ds_mean / self.ds_std), (1.0 / self.ds_std)),\n",
    "            transforms.Lambda(lambda x_: torch.clamp(x_ * 255, 0, 255))\n",
    "        ])   \n",
    "        \n",
    "    def __len__(self):\n",
    "        return len(self.data[\"input_arrays\"])\n",
    "\n",
    "    def __getitem__(self, idx):\n",
    "        \n",
    "        input_array = self.data[\"input_arrays\"][idx]\n",
    "        mask = self.data[\"known_arrays\"][idx]\n",
    "               \n",
    "        input_array = self.transform(input_array).squeeze(0)\n",
    "        mask = torch.tensor(mask).bool()\n",
    "        known_array = torch.full_like(input_array, self.mask_val_zero)\n",
    "        known_array[mask] = self.mask_val_one\n",
    "        \n",
    "        ar = torch.stack([input_array, known_array], dim=0).float()\n",
    "        \n",
    "        return ar, mask\n",
    "    \n",
    "    def denormalize(self, x: torch.tensor):\n",
    "        return self.denorm(x)\n",
    "    \n",
    "    def get_mask_vals(self, avg_border_size = 12):\n",
    "        \"\"\"get normalized values for 0/1 mask\"\"\"\n",
    "        self.mask_mean = (90 - avg_border_size)**2 / 90**2\n",
    "        self.mask_std = (self.mask_mean - self.mask_mean**2)**(.5)\n",
    "        self.mask_val_zero = (0 - self.mask_mean) / self.mask_std\n",
    "        self.mask_val_one = (1 - self.mask_mean) / self.mask_std\n",
    "        return self.mask_val_zero, self.mask_val_one"
   ]
  },
  {
   "cell_type": "code",
   "execution_count": 5,
   "id": "6ed9f147",
   "metadata": {},
   "outputs": [
    {
     "name": "stdout",
     "output_type": "stream",
     "text": [
      "0.49043718 0.24371633847854682\n"
     ]
    },
    {
     "data": {
      "text/plain": [
       "BorderPredictionNet(\n",
       "  (cnn): CNNBase(\n",
       "    (hidden_layers): Sequential(\n",
       "      (0): Conv2d(2, 64, kernel_size=(7, 7), stride=(1, 1), padding=(3, 3))\n",
       "      (1): ReLU()\n",
       "      (2): Conv2d(64, 64, kernel_size=(7, 7), stride=(1, 1), padding=(3, 3))\n",
       "      (3): ReLU()\n",
       "      (4): Conv2d(64, 64, kernel_size=(7, 7), stride=(1, 1), padding=(3, 3))\n",
       "      (5): ReLU()\n",
       "    )\n",
       "    (output_layer): Conv2d(64, 1, kernel_size=(7, 7), stride=(1, 1), padding=(3, 3))\n",
       "  )\n",
       ")"
      ]
     },
     "execution_count": 5,
     "metadata": {},
     "output_type": "execute_result"
    }
   ],
   "source": [
    "with open(\"../image_stats.pkl\", \"rb\") as f:\n",
    "    mean, std = pickle.load(f)\n",
    "print(mean, std)\n",
    "    \n",
    "batch_size = 16\n",
    "\n",
    "net = torch.load(\"results/best_model.pt\")\n",
    "net.eval()"
   ]
  },
  {
   "cell_type": "code",
   "execution_count": 6,
   "id": "51cef153",
   "metadata": {},
   "outputs": [],
   "source": [
    "# running_stats = np.zeros((3,), dtype=np.float32)\n",
    "# for ar in ds_test.data[\"input_arrays\"]:\n",
    "#     ar = ar.astype(float)\n",
    "#     ar /= 255\n",
    "#     running_stats += np.array([ar.sum(), np.square(ar).sum(), ar.size])\n",
    "    \n",
    "# mean = running_stats[0] / running_stats[2]\n",
    "# std = np.sqrt(running_stats[1] / running_stats[2] - mean**2)\n",
    "# print(mean, std)"
   ]
  },
  {
   "cell_type": "code",
   "execution_count": 7,
   "id": "ecf0fc7e",
   "metadata": {},
   "outputs": [],
   "source": [
    "ds_test = Testset(\"../challenge_testset/testset.pkl\", mean, std)\n",
    "#ds_test = Testset(\"my_testset_dict.pkl\", mean, std)"
   ]
  },
  {
   "cell_type": "code",
   "execution_count": 8,
   "id": "3adb6914",
   "metadata": {},
   "outputs": [],
   "source": [
    "test_loader = DataLoader(ds_test, batch_size=16, num_workers=4, shuffle=False)"
   ]
  },
  {
   "cell_type": "code",
   "execution_count": 9,
   "id": "1255f392",
   "metadata": {},
   "outputs": [],
   "source": [
    "pred_list = []\n",
    "for x, mask in test_loader:\n",
    "    pred_ = net.cnn(x.to(device)).detach().squeeze(1).cpu()\n",
    "    pred = torch.round(denorm(pred_, mean, std)).numpy().astype(\"uint8\")\n",
    "    pred_list.extend([p[~m] for p, m in zip(pred, mask)])"
   ]
  },
  {
   "cell_type": "code",
   "execution_count": 86,
   "id": "30de5f1c",
   "metadata": {},
   "outputs": [],
   "source": [
    "# pred_list_old = []\n",
    "# for x in test_loader:\n",
    "#     mask = ~x[:,1].bool().numpy()\n",
    "#     pred_ = old_net.cnn(x.to(device)).detach().squeeze(1).cpu()\n",
    "#     pred = torch.round(denorm(pred_, mean, std)).numpy().astype(\"uint8\")\n",
    "#     pred_list_old.extend([p[m] for p, m in zip(pred, mask)])"
   ]
  },
  {
   "cell_type": "code",
   "execution_count": 10,
   "id": "669b04c0",
   "metadata": {},
   "outputs": [],
   "source": [
    "idx = 25\n",
    "\n",
    "orig = ds_test.data[\"input_arrays\"][idx]\n",
    "mask = ~ds_test.data[\"known_arrays\"][idx].astype(bool)\n",
    "pred = pred_list[idx]\n",
    "orig[mask] = pred"
   ]
  },
  {
   "cell_type": "code",
   "execution_count": 11,
   "id": "4ce1f4a3",
   "metadata": {},
   "outputs": [
    {
     "data": {
      "image/png": "[encoded data removed]",
      "text/plain": [
       "<PIL.Image.Image image mode=L size=90x90 at 0x7FF652A47990>"
      ]
     },
     "metadata": {},
     "output_type": "display_data"
    }
   ],
   "source": [
    "im = Image.fromarray(orig)\n",
    "im.show()"
   ]
  },
  {
   "cell_type": "code",
   "execution_count": 10,
   "id": "049d1463",
   "metadata": {},
   "outputs": [
    {
     "data": {
      "image/png": "[encoded data removed]",
      "text/plain": [
       "<PIL.Image.Image image mode=L size=90x90 at 0x7F1BAE4E5510>"
      ]
     },
     "metadata": {},
     "output_type": "display_data"
    }
   ],
   "source": [
    "im = Image.fromarray(orig)\n",
    "im.show()"
   ]
  },
  {
   "cell_type": "code",
   "execution_count": 12,
   "id": "5d0fa3ab",
   "metadata": {},
   "outputs": [
    {
     "data": {
      "text/plain": [
       "0"
      ]
     },
     "execution_count": 12,
     "metadata": {},
     "output_type": "execute_result"
    }
   ],
   "source": [
    "# verify prediction shapes\n",
    "with open(\"../challenge_testset/testset_submission_random.pkl\", \"rb\") as f:\n",
    "    testset_submission = pickle.load(f)\n",
    "\n",
    "sum([len(x)!=len(y) for x,y in zip(pred_list, testset_submission)])"
   ]
  },
  {
   "cell_type": "code",
   "execution_count": 43,
   "id": "d395642c",
   "metadata": {},
   "outputs": [],
   "source": [
    "with open(\"submission_test.pkl\", \"wb\") as f:\n",
    "    pickle.dump(pred_list, f)"
   ]
  },
  {
   "cell_type": "code",
   "execution_count": 13,
   "id": "76725da1",
   "metadata": {},
   "outputs": [],
   "source": [
    "with open(\"submission_v4.pkl\", \"wb\") as f:\n",
    "    pickle.dump(pred_list, f)"
   ]
  },
  {
   "cell_type": "code",
   "execution_count": 14,
   "id": "23c8b9ab",
   "metadata": {},
   "outputs": [
    {
     "data": {
      "text/plain": [
       "[array([101,  99,  99, ...,  75,  78,  83], dtype=uint8),\n",
       " array([238, 239, 238, ...,  98, 100, 104], dtype=uint8),\n",
       " array([ 98,  96,  96, ..., 100, 102, 105], dtype=uint8),\n",
       " array([167, 185, 198, ...,  58,  64,  73], dtype=uint8),\n",
       " array([ 95,  91,  88, ...,  94,  96, 101], dtype=uint8),\n",
       " array([118, 124, 128, ...,  87,  88,  91], dtype=uint8),\n",
       " array([100,  98,  98, ..., 114, 115, 115], dtype=uint8),\n",
       " array([110, 116, 124, ...,  86,  89,  93], dtype=uint8),\n",
       " array([125, 132, 137, ..., 111, 112, 115], dtype=uint8),\n",
       " array([182, 181, 179, ..., 120, 115, 112], dtype=uint8),\n",
       " array([ 93,  89,  87, ..., 106, 107, 108], dtype=uint8),\n",
       " array([ 99,  96,  94, ..., 106, 106, 108], dtype=uint8),\n",
       " array([228, 211, 204, ..., 118, 116, 115], dtype=uint8),\n",
       " array([ 83,  78,  75, ..., 103, 103, 106], dtype=uint8),\n",
       " array([227, 228, 228, ...,  97, 100, 104], dtype=uint8),\n",
       " array([209, 210, 209, ..., 104, 105, 107], dtype=uint8),\n",
       " array([ 93,  89,  86, ...,  94,  97, 101], dtype=uint8),\n",
       " array([103, 101, 100, ..., 104, 105, 106], dtype=uint8),\n",
       " array([162, 165, 160, ..., 159, 159, 159], dtype=uint8),\n",
       " array([139, 139, 135, ..., 142, 144, 144], dtype=uint8),\n",
       " array([99, 96, 94, ..., 87, 89, 93], dtype=uint8),\n",
       " array([101,  99,  98, ..., 103, 103, 103], dtype=uint8),\n",
       " array([ 82,  77,  75, ..., 106, 106, 108], dtype=uint8),\n",
       " array([143, 143, 142, ..., 147, 138, 130], dtype=uint8),\n",
       " array([ 98,  93,  91, ..., 120, 121, 123], dtype=uint8),\n",
       " array([ 88,  82,  80, ..., 110, 109, 109], dtype=uint8),\n",
       " array([233, 221, 218, ..., 211, 206, 206], dtype=uint8),\n",
       " array([ 86,  81,  79, ..., 146, 137, 129], dtype=uint8),\n",
       " array([ 90,  85,  82, ..., 116, 117, 117], dtype=uint8),\n",
       " array([99, 96, 94, ..., 95, 96, 99], dtype=uint8),\n",
       " array([ 87,  82,  80, ..., 106, 107, 109], dtype=uint8),\n",
       " array([ 82,  75,  72, ..., 101, 102, 105], dtype=uint8),\n",
       " array([ 92,  87,  84, ...,  99, 101, 104], dtype=uint8),\n",
       " array([119, 130, 142, ..., 134, 136, 136], dtype=uint8),\n",
       " array([105, 103, 103, ..., 147, 151, 159], dtype=uint8),\n",
       " array([ 99,  96,  94, ..., 158, 163, 172], dtype=uint8),\n",
       " array([105, 100,  99, ...,  89,  93,  99], dtype=uint8),\n",
       " array([100,  97,  96, ..., 128, 128, 129], dtype=uint8),\n",
       " array([ 95,  92,  91, ..., 156, 145, 135], dtype=uint8),\n",
       " array([194, 183, 177, ...,  75,  80,  88], dtype=uint8),\n",
       " array([166, 186, 202, ...,  74,  79,  87], dtype=uint8),\n",
       " array([128, 137, 143, ...,  97,  98, 100], dtype=uint8),\n",
       " array([ 96,  94,  94, ..., 117, 115, 112], dtype=uint8),\n",
       " array([184, 184, 184, ..., 113, 111, 109], dtype=uint8),\n",
       " array([125, 140, 156, ...,  61,  65,  74], dtype=uint8),\n",
       " array([111, 111, 111, ...,  60,  65,  73], dtype=uint8),\n",
       " array([104, 106, 111, ..., 116, 116, 118], dtype=uint8),\n",
       " array([199, 200, 201, ...,  96,  97,  99], dtype=uint8),\n",
       " array([ 87,  81,  79, ..., 106, 106, 107], dtype=uint8),\n",
       " array([110, 109, 110, ..., 112, 113, 112], dtype=uint8),\n",
       " array([109, 109, 109, ...,  88,  90,  93], dtype=uint8),\n",
       " array([93, 89, 87, ..., 87, 90, 94], dtype=uint8),\n",
       " array([106, 110, 114, ..., 105, 105, 108], dtype=uint8),\n",
       " array([92, 88, 85, ..., 89, 91, 96], dtype=uint8),\n",
       " array([ 96,  93,  92, ..., 108, 110, 111], dtype=uint8),\n",
       " array([100,  97,  96, ..., 106, 107, 109], dtype=uint8),\n",
       " array([102, 102, 103, ...,  87,  89,  93], dtype=uint8),\n",
       " array([109, 107, 107, ..., 125, 126, 128], dtype=uint8),\n",
       " array([ 99,  96,  95, ..., 172, 169, 171], dtype=uint8),\n",
       " array([ 93,  89,  86, ..., 173, 172, 173], dtype=uint8),\n",
       " array([ 96,  91,  89, ..., 118, 119, 120], dtype=uint8),\n",
       " array([ 80,  73,  69, ..., 142, 135, 128], dtype=uint8),\n",
       " array([106, 104, 104, ..., 114, 114, 116], dtype=uint8),\n",
       " array([ 78,  70,  65, ..., 105, 106, 107], dtype=uint8),\n",
       " array([ 77,  69,  64, ..., 116, 112, 110], dtype=uint8),\n",
       " array([ 81,  75,  70, ..., 139, 141, 141], dtype=uint8),\n",
       " array([111, 111, 110, ..., 102, 104, 106], dtype=uint8),\n",
       " array([174, 169, 165, ..., 115, 113, 113], dtype=uint8),\n",
       " array([110, 109, 110, ..., 101, 101, 104], dtype=uint8),\n",
       " array([104, 102, 101, ..., 106, 106, 107], dtype=uint8),\n",
       " array([152, 150, 148, ..., 177, 179, 172], dtype=uint8),\n",
       " array([110, 111, 110, ..., 163, 167, 174], dtype=uint8),\n",
       " array([134, 148, 159, ..., 145, 147, 149], dtype=uint8),\n",
       " array([198, 203, 195, ..., 104, 105, 107], dtype=uint8),\n",
       " array([125, 133, 137, ...,  82,  85,  91], dtype=uint8),\n",
       " array([125, 125, 124, ..., 121, 121, 123], dtype=uint8),\n",
       " array([ 93,  89,  86, ...,  99, 101, 105], dtype=uint8),\n",
       " array([142, 140, 138, ..., 102, 103, 106], dtype=uint8),\n",
       " array([128, 126, 126, ..., 145, 145, 145], dtype=uint8),\n",
       " array([ 91,  87,  85, ..., 167, 169, 163], dtype=uint8),\n",
       " array([240, 241, 240, ..., 131, 125, 118], dtype=uint8),\n",
       " array([255, 236, 227, ...,  99, 101, 105], dtype=uint8),\n",
       " array([153, 169, 182, ...,  93,  95,  99], dtype=uint8),\n",
       " array([158, 161, 157, ..., 121, 122, 124], dtype=uint8),\n",
       " array([96, 92, 89, ..., 79, 83, 90], dtype=uint8),\n",
       " array([106, 104, 103, ..., 139, 142, 143], dtype=uint8),\n",
       " array([192, 191, 189, ..., 103, 104, 106], dtype=uint8),\n",
       " array([99, 96, 94, ..., 91, 93, 96], dtype=uint8),\n",
       " array([82, 76, 72, ..., 88, 89, 93], dtype=uint8),\n",
       " array([137, 136, 134, ..., 101, 103, 106], dtype=uint8),\n",
       " array([192, 183, 177, ..., 100, 102, 105], dtype=uint8),\n",
       " array([198, 206, 203, ..., 109, 109, 112], dtype=uint8),\n",
       " array([230, 239, 236, ...,  96,  98, 102], dtype=uint8),\n",
       " array([141, 139, 137, ..., 101, 102, 105], dtype=uint8),\n",
       " array([138, 137, 136, ..., 113, 112, 111], dtype=uint8),\n",
       " array([153, 171, 185, ...,  74,  79,  87], dtype=uint8),\n",
       " array([109, 109, 109, ..., 120, 115, 112], dtype=uint8),\n",
       " array([183, 188, 183, ...,  81,  84,  90], dtype=uint8),\n",
       " array([228, 235, 227, ...,  96,  99, 102], dtype=uint8),\n",
       " array([104, 103, 104, ...,  98, 100, 104], dtype=uint8),\n",
       " array([78, 71, 65, ..., 77, 81, 86], dtype=uint8),\n",
       " array([173, 167, 162, ..., 105, 105, 107], dtype=uint8),\n",
       " array([110, 111, 110, ...,  46,  53,  65], dtype=uint8),\n",
       " array([188, 179, 174, ..., 117, 115, 114], dtype=uint8),\n",
       " array([91, 86, 84, ..., 72, 78, 86], dtype=uint8),\n",
       " array([90, 85, 82, ..., 57, 63, 71], dtype=uint8),\n",
       " array([213, 225, 224, ..., 102, 102, 104], dtype=uint8),\n",
       " array([185, 177, 173, ...,  78,  81,  86], dtype=uint8),\n",
       " array([ 99,  96,  95, ..., 110, 110, 111], dtype=uint8),\n",
       " array([140, 138, 137, ..., 101, 103, 106], dtype=uint8),\n",
       " array([119, 120, 120, ..., 104, 105, 107], dtype=uint8),\n",
       " array([113, 113, 113, ..., 108, 107, 108], dtype=uint8),\n",
       " array([101,  99,  98, ..., 100, 101, 104], dtype=uint8),\n",
       " array([182, 182, 180, ..., 108, 107, 108], dtype=uint8),\n",
       " array([152, 153, 147, ..., 105, 105, 107], dtype=uint8),\n",
       " array([107, 104, 104, ..., 111, 112, 114], dtype=uint8),\n",
       " array([ 98,  97,  97, ..., 126, 120, 117], dtype=uint8),\n",
       " array([ 79,  71,  66, ..., 103, 104, 107], dtype=uint8),\n",
       " array([185, 184, 183, ..., 112, 111, 110], dtype=uint8),\n",
       " array([110, 108, 108, ...,  93,  96, 101], dtype=uint8),\n",
       " array([110, 109, 109, ..., 144, 150, 146], dtype=uint8),\n",
       " array([ 98,  96,  95, ..., 126, 129, 128], dtype=uint8),\n",
       " array([102, 100, 100, ...,  99, 100, 103], dtype=uint8),\n",
       " array([204, 203, 202, ...,  92,  95, 100], dtype=uint8),\n",
       " array([100,  98,  97, ..., 171, 169, 170], dtype=uint8),\n",
       " array([152, 152, 146, ...,  92,  95, 100], dtype=uint8),\n",
       " array([ 99,  97,  95, ..., 155, 158, 165], dtype=uint8),\n",
       " array([202, 202, 201, ...,  94,  95,  98], dtype=uint8),\n",
       " array([126, 125, 124, ...,  95,  97, 101], dtype=uint8),\n",
       " array([93, 90, 90, ..., 93, 94, 97], dtype=uint8),\n",
       " array([192, 181, 176, ...,  91,  93,  96], dtype=uint8),\n",
       " array([206, 206, 205, ..., 105, 106, 109], dtype=uint8),\n",
       " array([165, 160, 158, ..., 152, 157, 153], dtype=uint8),\n",
       " array([113, 114, 113, ...,  94,  96,  99], dtype=uint8),\n",
       " array([139, 138, 136, ...,  99, 101, 105], dtype=uint8),\n",
       " array([128, 137, 143, ...,  98,  99, 101], dtype=uint8),\n",
       " array([112, 112, 113, ..., 125, 128, 129], dtype=uint8),\n",
       " array([125, 130, 132, ..., 127, 128, 128], dtype=uint8),\n",
       " array([162, 166, 162, ..., 107, 107, 108], dtype=uint8),\n",
       " array([ 79,  71,  66, ..., 124, 118, 113], dtype=uint8),\n",
       " array([118, 118, 118, ..., 136, 138, 139], dtype=uint8),\n",
       " array([ 89,  84,  80, ..., 137, 138, 141], dtype=uint8),\n",
       " array([194, 186, 182, ..., 124, 120, 117], dtype=uint8),\n",
       " array([176, 169, 165, ..., 123, 125, 126], dtype=uint8),\n",
       " array([203, 203, 202, ..., 120, 116, 112], dtype=uint8),\n",
       " array([156, 157, 151, ..., 120, 122, 120], dtype=uint8),\n",
       " array([157, 175, 188, ..., 170, 167, 166], dtype=uint8),\n",
       " array([114, 114, 114, ..., 156, 157, 157], dtype=uint8),\n",
       " array([ 99,  96,  95, ..., 105, 106, 108], dtype=uint8),\n",
       " array([214, 199, 193, ..., 171, 170, 171], dtype=uint8),\n",
       " array([ 92,  89,  88, ..., 103, 105, 107], dtype=uint8),\n",
       " array([ 78,  71,  66, ..., 104, 104, 106], dtype=uint8),\n",
       " array([100,  98,  97, ...,  66,  70,  77], dtype=uint8),\n",
       " array([185, 185, 184, ..., 120, 116, 112], dtype=uint8),\n",
       " array([183, 175, 170, ..., 164, 169, 179], dtype=uint8),\n",
       " array([112, 119, 127, ..., 165, 164, 165], dtype=uint8),\n",
       " array([ 77,  68,  63, ..., 108, 107, 108], dtype=uint8),\n",
       " array([152, 168, 180, ..., 106, 108, 110], dtype=uint8),\n",
       " array([176, 176, 174, ..., 115, 117, 119], dtype=uint8),\n",
       " array([133, 144, 151, ..., 110, 111, 112], dtype=uint8),\n",
       " array([108, 108, 107, ..., 109, 109, 111], dtype=uint8),\n",
       " array([121, 127, 131, ..., 139, 142, 147], dtype=uint8),\n",
       " array([ 94,  90,  88, ...,  99, 102, 105], dtype=uint8),\n",
       " array([ 92,  88,  85, ...,  91,  95, 100], dtype=uint8),\n",
       " array([118, 118, 115, ..., 151, 154, 149], dtype=uint8),\n",
       " array([172, 176, 172, ...,  95,  97,  99], dtype=uint8),\n",
       " array([216, 201, 195, ..., 150, 153, 159], dtype=uint8),\n",
       " array([ 95,  91,  89, ...,  92,  95, 100], dtype=uint8),\n",
       " array([113, 112, 112, ...,  85,  88,  93], dtype=uint8),\n",
       " array([153, 169, 181, ..., 105, 106, 107], dtype=uint8),\n",
       " array([118, 118, 118, ..., 135, 138, 135], dtype=uint8),\n",
       " array([117, 117, 117, ..., 119, 121, 122], dtype=uint8),\n",
       " array([102, 100, 100, ...,  93,  95, 101], dtype=uint8),\n",
       " array([111, 117, 123, ..., 109, 109, 113], dtype=uint8),\n",
       " array([169, 169, 167, ..., 125, 119, 114], dtype=uint8),\n",
       " array([ 80,  73,  69, ..., 105, 106, 108], dtype=uint8),\n",
       " array([101,  98,  98, ..., 137, 137, 137], dtype=uint8),\n",
       " array([101,  99,  98, ...,  94,  96,  99], dtype=uint8),\n",
       " array([114, 113, 113, ...,  98, 100, 104], dtype=uint8),\n",
       " array([188, 179, 175, ...,  99, 101, 105], dtype=uint8),\n",
       " array([ 88,  83,  80, ..., 112, 114, 119], dtype=uint8),\n",
       " array([ 98,  95,  95, ..., 135, 137, 139], dtype=uint8),\n",
       " array([133, 132, 131, ...,  96,  97,  99], dtype=uint8),\n",
       " array([102, 103, 104, ..., 170, 169, 170], dtype=uint8),\n",
       " array([ 78,  70,  65, ..., 114, 112, 111], dtype=uint8),\n",
       " array([147, 143, 141, ..., 174, 171, 173], dtype=uint8),\n",
       " array([101, 100, 100, ..., 108, 110, 113], dtype=uint8),\n",
       " array([ 88,  83,  82, ..., 149, 139, 131], dtype=uint8),\n",
       " array([180, 185, 181, ..., 136, 139, 136], dtype=uint8),\n",
       " array([ 83,  76,  72, ..., 136, 129, 123], dtype=uint8),\n",
       " array([103, 104, 107, ..., 126, 127, 128], dtype=uint8),\n",
       " array([128, 136, 141, ..., 120, 121, 122], dtype=uint8),\n",
       " array([ 92,  87,  85, ...,  92,  95, 100], dtype=uint8),\n",
       " array([ 99,  98,  98, ..., 127, 128, 127], dtype=uint8),\n",
       " array([186, 188, 180, ...,  78,  83,  89], dtype=uint8),\n",
       " array([198, 187, 182, ..., 147, 139, 131], dtype=uint8),\n",
       " array([ 96,  95,  96, ..., 105, 106, 108], dtype=uint8),\n",
       " array([157, 152, 149, ..., 178, 178, 180], dtype=uint8),\n",
       " array([169, 162, 158, ..., 126, 129, 128], dtype=uint8),\n",
       " array([179, 178, 177, ..., 104, 105, 107], dtype=uint8),\n",
       " array([ 88,  82,  78, ..., 137, 142, 140], dtype=uint8),\n",
       " array([95, 92, 89, ..., 88, 90, 95], dtype=uint8),\n",
       " array([176, 169, 165, ..., 110, 108, 107], dtype=uint8),\n",
       " array([105, 108, 113, ..., 159, 158, 158], dtype=uint8),\n",
       " array([189, 180, 175, ..., 148, 149, 148], dtype=uint8),\n",
       " array([131, 132, 132, ...,  92,  95, 100], dtype=uint8),\n",
       " array([109, 109, 109, ...,  95,  97, 101], dtype=uint8),\n",
       " array([113, 112, 113, ..., 131, 137, 141], dtype=uint8)]"
      ]
     },
     "execution_count": 14,
     "metadata": {},
     "output_type": "execute_result"
    }
   ],
   "source": [
    "pred_list"
   ]
  },
  {
   "cell_type": "code",
   "execution_count": 25,
   "id": "2a90e4a5",
   "metadata": {},
   "outputs": [],
   "source": [
    "with open(\"submission.pkl\", \"rb\") as f:\n",
    "    a = pickle.load(f)\n",
    "with open(\"submission_.pkl\", \"rb\") as f:\n",
    "    b = pickle.load(f)"
   ]
  },
  {
   "cell_type": "code",
   "execution_count": 27,
   "id": "466163c4",
   "metadata": {},
   "outputs": [
    {
     "data": {
      "text/plain": [
       "208"
      ]
     },
     "execution_count": 27,
     "metadata": {},
     "output_type": "execute_result"
    }
   ],
   "source": [
    "sum([np.array_equal(a_,b_) for a_,b_ in zip(a,b)])"
   ]
  },
  {
   "cell_type": "code",
   "execution_count": 28,
   "id": "81f0ca99",
   "metadata": {},
   "outputs": [
    {
     "data": {
      "text/plain": [
       "208"
      ]
     },
     "execution_count": 28,
     "metadata": {},
     "output_type": "execute_result"
    }
   ],
   "source": [
    "len(a)"
   ]
  },
  {
   "cell_type": "code",
   "execution_count": 65,
   "id": "fbd1adb2",
   "metadata": {},
   "outputs": [],
   "source": [
    "n = 100\n",
    "rng = np.random.default_rng(seed=0)\n",
    "borders_a = rng.integers(5, 10, (n,))\n",
    "borders_b = rng.integers(5, (15 - borders_a), (n,))\n",
    "edge = np.zeros((2,n), dtype=int)\n",
    "edge[rng.choice([0, 1], size=(n,)), np.arange(n)] = 1\n",
    "borders = np.stack([borders_a, borders_b])[edge, np.arange(n)]\n",
    "borders = list(map(tuple, borders.T))"
   ]
  },
  {
   "cell_type": "code",
   "execution_count": 66,
   "id": "45e6308b",
   "metadata": {},
   "outputs": [
    {
     "data": {
      "text/plain": [
       "(9, 5)"
      ]
     },
     "execution_count": 66,
     "metadata": {},
     "output_type": "execute_result"
    }
   ],
   "source": [
    "borders[0]"
   ]
  },
  {
   "cell_type": "code",
   "execution_count": 70,
   "id": "09b1f5ab",
   "metadata": {},
   "outputs": [
    {
     "ename": "Exception",
     "evalue": "dff",
     "output_type": "error",
     "traceback": [
      "\u001b[0;31m---------------------------------------------------------------------------\u001b[0m",
      "\u001b[0;31mException\u001b[0m                                 Traceback (most recent call last)",
      "\u001b[0;32m<ipython-input-70-5349a59da62e>\u001b[0m in \u001b[0;36m<module>\u001b[0;34m\u001b[0m\n\u001b[0;32m----> 1\u001b[0;31m \u001b[0;32mraise\u001b[0m \u001b[0mException\u001b[0m\u001b[0;34m(\u001b[0m\u001b[0;34m\"dff\"\u001b[0m\u001b[0;34m)\u001b[0m\u001b[0;34m\u001b[0m\u001b[0;34m\u001b[0m\u001b[0m\n\u001b[0m",
      "\u001b[0;31mException\u001b[0m: dff"
     ]
    }
   ],
   "source": [
    "raise Exception(\"dff\")"
   ]
  },
  {
   "cell_type": "code",
   "execution_count": 64,
   "id": "5491e27c",
   "metadata": {},
   "outputs": [
    {
     "data": {
      "text/plain": [
       "array([[9, 9, 9, 9, 9, 9, 9, 9, 9, 9, 9, 9, 9, 9, 9, 9, 9, 9, 9, 9, 9, 9,\n",
       "        9, 9, 9, 9, 9, 9, 9, 9, 9, 9, 9, 9, 9, 9, 9, 9, 9, 9, 9, 9, 9, 9,\n",
       "        9, 9, 9, 9, 9, 9, 9, 9, 9, 9, 9, 9, 9, 9, 9, 9, 9, 9, 9, 9, 9, 9,\n",
       "        9, 9, 9, 9, 9, 9, 9, 9, 9, 9, 9, 9, 9, 9, 9, 9, 9, 9, 9, 9, 9, 9,\n",
       "        9, 9, 9, 9, 9, 9, 9, 9, 9, 9, 9, 9],\n",
       "       [9, 9, 9, 9, 9, 9, 9, 9, 9, 9, 9, 9, 9, 9, 9, 9, 9, 9, 9, 9, 9, 9,\n",
       "        9, 9, 9, 9, 9, 9, 9, 9, 9, 9, 9, 9, 9, 9, 9, 9, 9, 9, 9, 9, 9, 9,\n",
       "        9, 9, 9, 9, 9, 9, 9, 9, 9, 9, 9, 9, 9, 9, 9, 9, 9, 9, 9, 9, 9, 9,\n",
       "        9, 9, 9, 9, 9, 9, 9, 9, 9, 9, 9, 9, 9, 9, 9, 9, 9, 9, 9, 9, 9, 9,\n",
       "        9, 9, 9, 9, 9, 9, 9, 9, 9, 9, 9, 9]])"
      ]
     },
     "execution_count": 64,
     "metadata": {},
     "output_type": "execute_result"
    }
   ],
   "source": [
    "np.full((2,n), 9)"
   ]
  },
  {
   "cell_type": "code",
   "execution_count": 29,
   "id": "d2bb8180",
   "metadata": {},
   "outputs": [
    {
     "data": {
      "text/plain": [
       "76"
      ]
     },
     "execution_count": 29,
     "metadata": {},
     "output_type": "execute_result"
    }
   ],
   "source": [
    "90-14"
   ]
  },
  {
   "cell_type": "code",
   "execution_count": 16,
   "id": "f1daacc5",
   "metadata": {},
   "outputs": [],
   "source": [
    "with open(\"../challenge_testset/testset.pkl\", \"rb\") as f:\n",
    "    testset_submission = pickle.load(f)"
   ]
  },
  {
   "cell_type": "code",
   "execution_count": 17,
   "id": "cb23fc82",
   "metadata": {},
   "outputs": [
    {
     "data": {
      "text/plain": [
       "dict_keys(['input_arrays', 'known_arrays', 'borders_x', 'borders_y', 'sample_ids'])"
      ]
     },
     "execution_count": 17,
     "metadata": {},
     "output_type": "execute_result"
    }
   ],
   "source": [
    "testset_submission.keys()"
   ]
  },
  {
   "cell_type": "code",
   "execution_count": 43,
   "id": "dcae61a2",
   "metadata": {},
   "outputs": [
    {
     "data": {
      "text/plain": [
       "array([0, 0, 0, 0, 0, 0, 0, 0, 0, 1, 1, 1, 1, 1, 1, 1, 1, 1, 1, 1, 1, 1,\n",
       "       1, 1, 1, 1, 1, 1, 1, 1, 1, 1, 1, 1, 1, 1, 1, 1, 1, 1, 1, 1, 1, 1,\n",
       "       1, 1, 1, 1, 1, 1, 1, 1, 1, 1, 1, 1, 1, 1, 1, 1, 1, 1, 1, 1, 1, 1,\n",
       "       1, 1, 1, 1, 1, 1, 1, 1, 1, 1, 1, 1, 1, 1, 1, 1, 1, 1, 1, 0, 0, 0,\n",
       "       0, 0], dtype=uint8)"
      ]
     },
     "execution_count": 43,
     "metadata": {},
     "output_type": "execute_result"
    }
   ],
   "source": [
    "testset_submission[\"known_arrays\"][0][10]"
   ]
  },
  {
   "cell_type": "code",
   "execution_count": 44,
   "id": "387f9c75",
   "metadata": {},
   "outputs": [
    {
     "data": {
      "text/plain": [
       "array([9, 5])"
      ]
     },
     "execution_count": 44,
     "metadata": {},
     "output_type": "execute_result"
    }
   ],
   "source": [
    "testset_submission[\"borders_y\"][0]"
   ]
  },
  {
   "cell_type": "code",
   "execution_count": 77,
   "id": "08f77128",
   "metadata": {},
   "outputs": [
    {
     "data": {
      "text/plain": [
       "9"
      ]
     },
     "execution_count": 77,
     "metadata": {},
     "output_type": "execute_result"
    }
   ],
   "source": [
    "np.stack(testset_submission[\"borders_y\"])[:,1].max()"
   ]
  },
  {
   "cell_type": "code",
   "execution_count": null,
   "id": "54ae2c71",
   "metadata": {},
   "outputs": [],
   "source": []
  }
 ],
 "metadata": {
  "environment": {
   "name": "pytorch-gpu.1-9.m75",
   "type": "gcloud",
   "uri": "gcr.io/deeplearning-platform-release/pytorch-gpu.1-9:m75"
  },
  "kernelspec": {
   "display_name": "Python 3",
   "language": "python",
   "name": "python3"
  },
  "language_info": {
   "codemirror_mode": {
    "name": "ipython",
    "version": 3
   },
   "file_extension": ".py",
   "mimetype": "text/x-python",
   "name": "python",
   "nbconvert_exporter": "python",
   "pygments_lexer": "ipython3",
   "version": "3.7.10"
  }
 },
 "nbformat": 4,
 "nbformat_minor": 5
}
